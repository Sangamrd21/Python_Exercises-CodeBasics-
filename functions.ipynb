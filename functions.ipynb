{
 "cells": [
  {
   "cell_type": "markdown",
   "id": "3d60781e",
   "metadata": {},
   "source": [
    "## 1. Write a function called calculate_area that takes base and height as an input and returns and area of a triangle. Equation of an area of a triangle is,\n",
    "\n",
    "area = (1/2)*base*height\n"
   ]
  },
  {
   "cell_type": "code",
   "execution_count": 2,
   "id": "a87fd890",
   "metadata": {},
   "outputs": [
    {
     "name": "stdout",
     "output_type": "stream",
     "text": [
      "Enter base of triangle:2\n",
      "Enter height of triangle:5\n",
      "5.0\n"
     ]
    }
   ],
   "source": [
    "def areaOfT(base,height):\n",
    "    return 0.5*base*height\n",
    "\n",
    "base = float(input(\"Enter base of triangle:\"))\n",
    "height = float(input(\"Enter height of triangle:\"))\n",
    "print(areaOfT(base,height))"
   ]
  },
  {
   "cell_type": "markdown",
   "id": "399281ad",
   "metadata": {},
   "source": [
    "## 2.  Modify above function to take third parameter shape type. It can be either \"triangle\" or \"rectangle\". Based on shape type it will calculate area. Equation of rectangle's area is,\n",
    "\n",
    "rectangle area=length*width\n",
    "\n",
    "If no shape is supplied then it should take triangle as a default shape"
   ]
  },
  {
   "cell_type": "code",
   "execution_count": 5,
   "id": "0272357a",
   "metadata": {},
   "outputs": [
    {
     "name": "stdout",
     "output_type": "stream",
     "text": [
      "Enter base:3\n",
      "Enter height:5\n",
      "Enter the shape:rectangle\n",
      "15.0\n"
     ]
    }
   ],
   "source": [
    "def areaOf(base, height, shape=\"triangle\"):\n",
    "    if shape == \"triangle\":\n",
    "        return areaOfT(base,height)\n",
    "    elif shape == \"rectangle\":\n",
    "        return base*height\n",
    "base = float(input(\"Enter base:\"))\n",
    "height = float(input(\"Enter height:\"))\n",
    "shape = input(\"Enter the shape:\")\n",
    "print(areaOf(base,height,shape))"
   ]
  },
  {
   "cell_type": "markdown",
   "id": "c315c800",
   "metadata": {},
   "source": [
    "# 3. Write a function called print_pattern that takes integer number as an argument and prints following pattern if input number is 3,\n",
    "\n",
    "    *\n",
    "    **\n",
    "    ***\n",
    "\n",
    "if input is 4 then it should print\n",
    "\n",
    "    *\n",
    "    **\n",
    "    ***\n",
    "    ****\n"
   ]
  },
  {
   "cell_type": "code",
   "execution_count": 10,
   "id": "026abfcd",
   "metadata": {},
   "outputs": [
    {
     "name": "stdout",
     "output_type": "stream",
     "text": [
      "Enter the number:5\n",
      "*\n",
      "**\n",
      "***\n",
      "****\n",
      "*****\n"
     ]
    }
   ],
   "source": [
    "def print_pattern(num=5):\n",
    "    for i in range(num):\n",
    "        print(\"*\"*(i+1))\n",
    "num = int(input(\"Enter the number:\"))\n",
    "print_pattern(num)"
   ]
  }
 ],
 "metadata": {
  "kernelspec": {
   "display_name": "Python 3 (ipykernel)",
   "language": "python",
   "name": "python3"
  },
  "language_info": {
   "codemirror_mode": {
    "name": "ipython",
    "version": 3
   },
   "file_extension": ".py",
   "mimetype": "text/x-python",
   "name": "python",
   "nbconvert_exporter": "python",
   "pygments_lexer": "ipython3",
   "version": "3.9.12"
  }
 },
 "nbformat": 4,
 "nbformat_minor": 5
}
