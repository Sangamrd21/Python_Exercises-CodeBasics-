{
 "cells": [
  {
   "cell_type": "markdown",
   "id": "7524b7ad",
   "metadata": {},
   "source": [
    "# 1. Using following list of cities per country,\n",
    "\n",
    "india = [\"mumbai\", \"banglore\", \"chennai\", \"delhi\"]\n",
    "pakistan = [\"lahore\",\"karachi\",\"islamabad\"]\n",
    "bangladesh = [\"dhaka\", \"khulna\", \"rangpur\"]\n",
    "\n",
    "   i. Write a program that asks user to enter a city name and it should tell which country the city belongs to\n",
    "  \n",
    "  ii. Write a program that asks user to enter two cities and it tells you if they both are in same country or not. For example if I enter mumbai and chennai, it will print \"Both cities are in India\" but if I enter mumbai and dhaka it should print \"They don't belong to same country\"\n"
   ]
  },
  {
   "cell_type": "code",
   "execution_count": 12,
   "id": "c2194738",
   "metadata": {},
   "outputs": [
    {
     "name": "stdout",
     "output_type": "stream",
     "text": [
      "Enter the city name: mysore\n",
      "I don't know to which country  mysore  belongs to.\n"
     ]
    }
   ],
   "source": [
    "India = [\"mumbai\", \"banglore\", \"chennai\", \"delhi\"]\n",
    "pakistan = [\"lahore\",\"karachi\",\"islamabad\"]\n",
    "bangladesh = [\"dhaka\", \"khulna\", \"rangpur\"]\n",
    "city = input(\"Enter the city name: \")\n",
    "if city in India:\n",
    "    print(city,\" belongs to India\")\n",
    "elif city in pakistan:\n",
    "    print(city,\" belongs to pakistan\")\n",
    "elif city in bangladesh:\n",
    "    print(city,\" belongs to bangladesh\")\n",
    "else:\n",
    "    print(\"I don't know to which country \",city,\" belongs to.\")"
   ]
  },
  {
   "cell_type": "code",
   "execution_count": 8,
   "id": "15bf4c3b",
   "metadata": {},
   "outputs": [
    {
     "name": "stdout",
     "output_type": "stream",
     "text": [
      "Enter the first city: mumbai\n",
      "Enter the second city: delhi\n",
      "mumbai  and  delhi  both belongs to India\n"
     ]
    }
   ],
   "source": [
    "city1 = input(\"Enter the first city: \")\n",
    "city2 = input(\"Enter the second city: \")\n",
    "if city1 in India and city2 in India:\n",
    "        print(city1,\" and \",city2,\" both belongs to India\")\n",
    "elif city1 in pakistan and city2 in pakistan:\n",
    "        print(city1,\" and \",city2,\" both belongs to pakistan\")\n",
    "elif city1 in bangladesh and city2 in bangladesh:\n",
    "        print(city1,\" and \",city2,\" both belongs to bangladesh\")\n",
    "else:\n",
    "    print(\"They don't belong to same country.\")"
   ]
  },
  {
   "cell_type": "markdown",
   "id": "ef050eda",
   "metadata": {},
   "source": [
    "# 2. Write a python program that can tell you if your sugar is normal or not. Normal fasting level sugar range is 80 to 100.\n",
    "\n",
    "    i. Ask user to enter his fasting sugar level\n",
    "    \n",
    "    ii. If it is below 80 to 100 range then print that sugar is low\n",
    "    \n",
    "    iii. If it is above 100 then print that it is high otherwise print that it is normal\n"
   ]
  },
  {
   "cell_type": "code",
   "execution_count": 11,
   "id": "8852673d",
   "metadata": {},
   "outputs": [
    {
     "name": "stdout",
     "output_type": "stream",
     "text": [
      "Enter your fasting sugar level: 89\n",
      "Your sugar level is low.\n"
     ]
    }
   ],
   "source": [
    "sugarLevel = int(input(\"Enter your fasting sugar level: \"))\n",
    "if sugarLevel >= 80 or sugarLevel <= 100:\n",
    "    print(\"Your sugar level is low.\")\n",
    "elif sugarLevel>100:\n",
    "    print(\"Your sugar level is high.\")\n",
    "else:\n",
    "    print(\"Your sugar level is normal.\")"
   ]
  }
 ],
 "metadata": {
  "kernelspec": {
   "display_name": "Python 3 (ipykernel)",
   "language": "python",
   "name": "python3"
  },
  "language_info": {
   "codemirror_mode": {
    "name": "ipython",
    "version": 3
   },
   "file_extension": ".py",
   "mimetype": "text/x-python",
   "name": "python",
   "nbconvert_exporter": "python",
   "pygments_lexer": "ipython3",
   "version": "3.9.12"
  }
 },
 "nbformat": 4,
 "nbformat_minor": 5
}
