{
 "cells": [
  {
   "cell_type": "markdown",
   "id": "899c793c",
   "metadata": {},
   "source": [
    "# 1. Let us say your expense for every month are listed below,\n",
    "        January - 2200\n",
    "        February - 2350\n",
    "        March - 2600\n",
    "        April - 2130\n",
    "        May - 2190\n",
    "\n",
    "Create a list to store these monthly expenses and using that find out,\n",
    "\n",
    "1. In Feb, how many dollars you spent extra compare to January?\n",
    "2. Find out your total expense in first quarter (first three months) of the year.\n",
    "3. Find out if you spent exactly 2000 dollars in any month\n",
    "4. June month just finished and your expense is 1980 dollar. Add this item to our monthly expense list\n",
    "5. You returned an item that you bought in a month of April and\n",
    "got a refund of 200$. Make a correction to your monthly expense list\n",
    "based on this\n"
   ]
  },
  {
   "cell_type": "code",
   "execution_count": 10,
   "id": "1cd97602",
   "metadata": {},
   "outputs": [
    {
     "name": "stdout",
     "output_type": "stream",
     "text": [
      "In Feb  150  was spent extra compared to Jan.\n",
      "Total expense in first quarter:  7150\n",
      "Did I spend 2000 in any month?  False\n",
      "Expenses list after adding June's expnese:  [2200, 2350, 2600, 2130, 2190, '1980']\n",
      "Expense of April after refund:  1930\n"
     ]
    }
   ],
   "source": [
    "expenses = [2200, 2350, 2600, 2130, 2190]\n",
    "print(\"In Feb \",expenses[1]-expenses[0],\" was spent extra compared to Jan.\")\n",
    "print(\"Total expense in first quarter: \",sum(expenses[:3]))\n",
    "print(\"Did I spend 2000 in any month? \", 2000 in expenses)\n",
    "expenses.append(\"1980\")\n",
    "print(\"Expenses list after adding June's expnese: \",expenses)\n",
    "expenses[3] = expenses[3]-200\n",
    "print(\"Expense of April after refund: \",expenses[3])"
   ]
  },
  {
   "cell_type": "markdown",
   "id": "90456780",
   "metadata": {},
   "source": [
    "# 2. You have a list of your favourite marvel super heros.\n",
    "\n",
    "heros=['spider man','thor','hulk','iron man','captain america']\n",
    "\n",
    "Using this find out,\n",
    "\n",
    "1. Length of the list\n",
    "2. Add 'black panther' at the end of this list\n",
    "3. You realize that you need to add 'black panther' after 'hulk',\n",
    "   so remove it from the list first and then add it after 'hulk'\n",
    "4. Now you don't like thor and hulk because they get angry easily :)\n",
    "   So you want to remove thor and hulk from list and replace them with doctor strange (because he is cool).\n",
    "   Do that with one line of code.\n",
    "5. Sort the heros list in alphabetical order (Hint. Use dir() functions to list down all functions available in list)\n"
   ]
  },
  {
   "cell_type": "code",
   "execution_count": 11,
   "id": "07eedeb5",
   "metadata": {},
   "outputs": [
    {
     "name": "stdout",
     "output_type": "stream",
     "text": [
      "Lenght of list:  5\n",
      "List after adding new hero:  ['spider man', 'thor', 'hulk', 'iron man', 'captain america', 'black panther']\n",
      "List after replace black panther at given place:  ['spider man', 'thor', 'hulk', 'black panther', 'iron man', 'captain america']\n",
      "List after the condition 4:  ['spider man', 'doctor strange', 'black panther', 'iron man', 'captain america']\n",
      "LIst after sorting:  ['black panther', 'captain america', 'doctor strange', 'iron man', 'spider man']\n"
     ]
    }
   ],
   "source": [
    "heros=['spider man','thor','hulk','iron man','captain america']\n",
    "print(\"Lenght of list: \",len(heros))\n",
    "heros.append(\"black panther\")\n",
    "print(\"List after adding new hero: \",heros)\n",
    "heros.remove(\"black panther\")\n",
    "heros.insert(3,\"black panther\")\n",
    "print(\"List after replace black panther at given place: \",heros)\n",
    "heros[1:3]=[\"doctor strange\"]\n",
    "print(\"List after the condition 4: \", heros)\n",
    "heros.sort()\n",
    "print(\"List after sorting: \",heros)"
   ]
  }
 ],
 "metadata": {
  "kernelspec": {
   "display_name": "Python 3 (ipykernel)",
   "language": "python",
   "name": "python3"
  },
  "language_info": {
   "codemirror_mode": {
    "name": "ipython",
    "version": 3
   },
   "file_extension": ".py",
   "mimetype": "text/x-python",
   "name": "python",
   "nbconvert_exporter": "python",
   "pygments_lexer": "ipython3",
   "version": "3.9.12"
  }
 },
 "nbformat": 4,
 "nbformat_minor": 5
}
