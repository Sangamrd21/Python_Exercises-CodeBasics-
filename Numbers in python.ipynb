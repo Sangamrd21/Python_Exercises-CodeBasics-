{
 "cells": [
  {
   "cell_type": "markdown",
   "id": "529b29de",
   "metadata": {},
   "source": [
    "# 1. You have a football field that is 92 meter long and 48.8 meter wide. Find out total area using python and print it."
   ]
  },
  {
   "cell_type": "code",
   "execution_count": 1,
   "id": "56770489",
   "metadata": {},
   "outputs": [
    {
     "name": "stdout",
     "output_type": "stream",
     "text": [
      "4489.599999999999\n"
     ]
    }
   ],
   "source": [
    "length = 92\n",
    "width = 48.8\n",
    "area = length*width\n",
    "print(area)"
   ]
  },
  {
   "cell_type": "markdown",
   "id": "6ad7d612",
   "metadata": {},
   "source": [
    "# 2. You bought 9 packets of potato chips from a store. Each packet costs 1.49 dollar and you gave shopkeeper 20 dollar. Find out using python, how many dollars is the shopkeeper going to give you back?"
   ]
  },
  {
   "cell_type": "code",
   "execution_count": 4,
   "id": "b3d83f38",
   "metadata": {},
   "outputs": [
    {
     "name": "stdout",
     "output_type": "stream",
     "text": [
      "Shopkeeper return $ 6.59\n"
     ]
    }
   ],
   "source": [
    "packetsNumbers = 9\n",
    "eachPacketCost = 1.49\n",
    "money = 20\n",
    "balance = money - (packetsNumbers*eachPacketCost)\n",
    "print(\"Shopkeeper return $\",(balance))"
   ]
  },
  {
   "cell_type": "markdown",
   "id": "22630fd6",
   "metadata": {},
   "source": [
    "# 3. You want to replace tiles in your bathroom which is exactly square and 5.5 feet is its length. If tiles cost 500 rs per square feet, how much will be the total cost to replace all tiles. Calculate and print the cost using python (Hint: Use power operator ** to find area of a square)"
   ]
  },
  {
   "cell_type": "code",
   "execution_count": 11,
   "id": "c224280c",
   "metadata": {},
   "outputs": [
    {
     "name": "stdout",
     "output_type": "stream",
     "text": [
      "Total Cost: 15125.0\n"
     ]
    }
   ],
   "source": [
    "tileLength = 5.5\n",
    "tileCost = 500\n",
    "totalCost = (tileLength**2)*tileCost\n",
    "print(\"Total Cost:\",totalCost)"
   ]
  },
  {
   "cell_type": "markdown",
   "id": "6b288f4d",
   "metadata": {},
   "source": [
    "# 4. Print binary representation of number 17"
   ]
  },
  {
   "cell_type": "code",
   "execution_count": 13,
   "id": "8ada98cf",
   "metadata": {},
   "outputs": [
    {
     "name": "stdout",
     "output_type": "stream",
     "text": [
      "Binary replacement of 17 is: 10001\n"
     ]
    }
   ],
   "source": [
    "number = 17\n",
    "print(\"Binary replacement of\",number,\"is:\",format(number,'b'))"
   ]
  }
 ],
 "metadata": {
  "kernelspec": {
   "display_name": "Python 3 (ipykernel)",
   "language": "python",
   "name": "python3"
  },
  "language_info": {
   "codemirror_mode": {
    "name": "ipython",
    "version": 3
   },
   "file_extension": ".py",
   "mimetype": "text/x-python",
   "name": "python",
   "nbconvert_exporter": "python",
   "pygments_lexer": "ipython3",
   "version": "3.9.12"
  }
 },
 "nbformat": 4,
 "nbformat_minor": 5
}
