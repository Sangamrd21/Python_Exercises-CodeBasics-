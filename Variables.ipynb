{
 "cells": [
  {
   "cell_type": "markdown",
   "id": "42715b02",
   "metadata": {},
   "source": [
    "# 1. Create a variable called break and assign it a value 5. See what happens and find out the reason behind the behavior that you see."
   ]
  },
  {
   "cell_type": "code",
   "execution_count": 2,
   "id": "de3f7604",
   "metadata": {},
   "outputs": [
    {
     "ename": "SyntaxError",
     "evalue": "invalid syntax (2709188746.py, line 1)",
     "output_type": "error",
     "traceback": [
      "\u001b[1;36m  Input \u001b[1;32mIn [2]\u001b[1;36m\u001b[0m\n\u001b[1;33m    break = 5\u001b[0m\n\u001b[1;37m          ^\u001b[0m\n\u001b[1;31mSyntaxError\u001b[0m\u001b[1;31m:\u001b[0m invalid syntax\n"
     ]
    }
   ],
   "source": [
    "break = 5"
   ]
  },
  {
   "cell_type": "markdown",
   "id": "9fe969da",
   "metadata": {},
   "source": [
    "error is because the variable name \"break\" is a keyword and keyword should not be used as variable name."
   ]
  },
  {
   "cell_type": "markdown",
   "id": "3aa9a42e",
   "metadata": {},
   "source": [
    "# 2. Create two variables. One to store your birth year and another one to store current year. Now calculate your age using these two variables"
   ]
  },
  {
   "cell_type": "code",
   "execution_count": 3,
   "id": "4b6cf634",
   "metadata": {},
   "outputs": [
    {
     "name": "stdout",
     "output_type": "stream",
     "text": [
      "24\n"
     ]
    }
   ],
   "source": [
    "birthYear = 1998\n",
    "currentYear = 2022\n",
    "age = currentYear - birthYear\n",
    "print(age)"
   ]
  },
  {
   "cell_type": "markdown",
   "id": "85338b0b",
   "metadata": {},
   "source": [
    "# 3. Store your first, middle and last name in three different variables and then print your full name using these variables"
   ]
  },
  {
   "cell_type": "code",
   "execution_count": 4,
   "id": "1939d2c4",
   "metadata": {},
   "outputs": [
    {
     "name": "stdout",
     "output_type": "stream",
     "text": [
      "Sangamesh G Hiremath\n"
     ]
    }
   ],
   "source": [
    "firstName = \"Sangamesh\"\n",
    "middleName = \"G\"\n",
    "lastName = \"Hiremath\"\n",
    "print(firstName,middleName,lastName)"
   ]
  },
  {
   "cell_type": "markdown",
   "id": "8314bdc4",
   "metadata": {},
   "source": [
    "# 4. Answer which of these are invalid variable names: _nation 1record record1 record_one record-one record^one continue"
   ]
  },
  {
   "cell_type": "markdown",
   "id": "54f17b33",
   "metadata": {},
   "source": [
    "1record, record-one, record^one and continue are invalid variable names."
   ]
  }
 ],
 "metadata": {
  "kernelspec": {
   "display_name": "Python 3 (ipykernel)",
   "language": "python",
   "name": "python3"
  },
  "language_info": {
   "codemirror_mode": {
    "name": "ipython",
    "version": 3
   },
   "file_extension": ".py",
   "mimetype": "text/x-python",
   "name": "python",
   "nbconvert_exporter": "python",
   "pygments_lexer": "ipython3",
   "version": "3.9.12"
  }
 },
 "nbformat": 4,
 "nbformat_minor": 5
}
