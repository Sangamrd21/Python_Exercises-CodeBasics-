{
 "cells": [
  {
   "cell_type": "markdown",
   "id": "affc5126",
   "metadata": {},
   "source": [
    "## 1. We have following information on countries and their population (population is in crores),\n",
    "    Country \tPopulation\n",
    "    ----------------------\n",
    "    China \t    143\n",
    "    India \t    136\n",
    "    USA \t      32\n",
    "    Pakistan \t 21\n",
    "    \n",
    "   i. Using above create a dictionary of countries and its population\n",
    "  \n",
    "  ii. Write a program that asks user for three type of inputs,\n",
    "         \n",
    "         a. print: if user enter print then it should print all countries with their population in this format,\n",
    "            china==>143\n",
    "            india==>136\n",
    "            usa==>32\n",
    "            pakistan==>21\n",
    "            \n",
    "         b. add: if user input add then it should further ask for a country name to add. If country already exist in our dataset then it should print that it exist and do nothing. If it doesn't then it asks for population and add that new country/population in our dictionary and print it\n",
    "         \n",
    "         c. remove: when user inputs remove it should ask for a country to remove. If country exist in our dictionary then remove it and print new dictionary using format shown above in (a). Else print that country doesn't exist!\n",
    "         \n",
    "         d. query: on this again ask user for which country he or she wants to query. When user inputs that country it will print population of that country.\n"
   ]
  },
  {
   "cell_type": "code",
   "execution_count": 8,
   "id": "fc275306",
   "metadata": {},
   "outputs": [
    {
     "name": "stdout",
     "output_type": "stream",
     "text": [
      "Enter the type:query\n",
      "Enter the country you want to ask a query on:India\n",
      "Popluation of India is 136 crores\n"
     ]
    }
   ],
   "source": [
    "countryPop = {\"China\":143, \"India\":136, \"USA\":32,\"Pakistan\":21}\n",
    "typ = input(\"Enter the type:\")\n",
    "if typ == \"print\":\n",
    "    print(countryPop)\n",
    "elif typ == \"add\":\n",
    "    country = input(\"Enter the country name:\")\n",
    "    if country not in countryPop:\n",
    "        countryPop[country] = int(input(\"Enter the populartion:\"))\n",
    "    print(country,\":\",countryPop[country])\n",
    "elif typ == \"remove\":\n",
    "    country = input(\"Enter the country to be removed:\")\n",
    "    if country not in countryPop:\n",
    "        print(country,\"is not present in the dictionary\")\n",
    "    else:\n",
    "        countryPop.pop(country)\n",
    "        print(countryPop)\n",
    "elif typ == \"query\":\n",
    "    country = input(\"Enter the country you want to ask a query on:\")\n",
    "    print(\"Popluation of\",country,\"is\",countryPop[country],\"crores\")"
   ]
  },
  {
   "cell_type": "markdown",
   "id": "e3621744",
   "metadata": {},
   "source": [
    "# 2. You are given following list of stocks and their prices in last 3 days,\n",
    "    Stock \tPrices\n",
    "    -------------------------\n",
    "    info \t[600,630,620]\n",
    "    ril \t [1430,1490,1567]\n",
    "    mtl \t [234,180,160]\n",
    "        \n",
    "       i. Write a program that asks user for operation. Value of operations could be,\n",
    "          a. print: When user enters print it should print following,\n",
    "\n",
    "            info ==> [600, 630, 620] ==> avg:  616.67\n",
    "            ril ==> [1430, 1490, 1567] ==> avg:  1495.67\n",
    "            mtl ==> [234, 180, 160] ==> avg:  191.33\n",
    "\n",
    "          b. add: When user enters 'add', it asks for stock ticker and price. If stock already exist in your list (like info, ril etc) then it will append the price to the list. Otherwise it will create new entry in your dictionary. For example entering 'tata' and 560 will add tata ==> [560] to the dictionary of stocks.\n",
    " "
   ]
  },
  {
   "cell_type": "code",
   "execution_count": 11,
   "id": "c8fd8bb3",
   "metadata": {},
   "outputs": [
    {
     "name": "stdout",
     "output_type": "stream",
     "text": [
      "Enter the value of operation:add\n",
      "Enter the name of stock tickerril\n",
      "Enter the price:234\n",
      "{'info': [600, 630, 620], 'ril': [1430, 1490, 1567, 234], 'mtl': [234, 180, 160]}\n"
     ]
    }
   ],
   "source": [
    "stockPrices = {\"info\":[600,630,620],\"ril\":[1430,1490,1567],\"mtl\":[234,180,160]}\n",
    "operation = input(\"Enter the value of operation:\")\n",
    "if operation == \"print\":\n",
    "    print(stockPrices)\n",
    "elif operation == \"add\":\n",
    "    stock = input(\"Enter the name of stock ticker:\")\n",
    "    if stock in stockPrices:\n",
    "        stockPrices[stock].append(int(input(\"Enter the price:\")))\n",
    "    else:\n",
    "        stockPrices[stock] = [int(x) for x in input(\"Enter the price:\")]\n",
    "    print(stockPrices)"
   ]
  },
  {
   "cell_type": "markdown",
   "id": "827c6000",
   "metadata": {},
   "source": [
    "## 3. Write circle_calc() function that takes radius of a circle as an input from user and then it calculates and returns area, circumference and diameter. You should get these values in your main program by calling circle_calc function and then print them"
   ]
  },
  {
   "cell_type": "code",
   "execution_count": 19,
   "id": "ee0baf5f",
   "metadata": {},
   "outputs": [
    {
     "name": "stdout",
     "output_type": "stream",
     "text": [
      "Enter the radius:3\n"
     ]
    },
    {
     "data": {
      "text/plain": [
       "{'area': 28.274333882308138,\n",
       " 'circumference': 18.84955592153876,\n",
       " 'diameter': 6.0}"
      ]
     },
     "execution_count": 19,
     "metadata": {},
     "output_type": "execute_result"
    }
   ],
   "source": [
    "import math\n",
    "def circle_calc(radius):\n",
    "    return {\"area\":math.pi*radius*radius,\"circumference\":2*math.pi*radius,\"diameter\":2*radius}\n",
    "circle_calc(float(input(\"Enter the radius:\")))"
   ]
  }
 ],
 "metadata": {
  "kernelspec": {
   "display_name": "Python 3 (ipykernel)",
   "language": "python",
   "name": "python3"
  },
  "language_info": {
   "codemirror_mode": {
    "name": "ipython",
    "version": 3
   },
   "file_extension": ".py",
   "mimetype": "text/x-python",
   "name": "python",
   "nbconvert_exporter": "python",
   "pygments_lexer": "ipython3",
   "version": "3.9.12"
  }
 },
 "nbformat": 4,
 "nbformat_minor": 5
}
