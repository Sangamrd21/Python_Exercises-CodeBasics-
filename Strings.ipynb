{
 "cells": [
  {
   "cell_type": "markdown",
   "id": "ec0a4959",
   "metadata": {},
   "source": [
    "# 1. Create 3 variables to store street, city and country, now create address variable to store entire address. Use two ways of creating this variable, one using + operator and the other using f-string. Now Print the address in such a way that the street, city and country prints in a separate line"
   ]
  },
  {
   "cell_type": "code",
   "execution_count": 19,
   "id": "88323c16",
   "metadata": {},
   "outputs": [
    {
     "name": "stdout",
     "output_type": "stream",
     "text": [
      "Using Operator:\n",
      "Vijayanagar\n",
      "Mysore\n",
      "India\n",
      "Using f-String:\n",
      "Vijayanagar\n",
      "Mysore\n",
      "India\n"
     ]
    }
   ],
   "source": [
    "street = \"Vijayanagar\"\n",
    "city = \"Mysore\"\n",
    "country = \"India\"\n",
    "addressUsingOperator = street+\"\\n\"+city+\"\\n\"+country\n",
    "addressUsingfString = f\"{street}\\n{city}\\n{country}\"\n",
    "print(\"Using Operator:\")\n",
    "print(addressUsingOperator)\n",
    "print(\"Using f-String:\")\n",
    "print(addressUsingfString)"
   ]
  },
  {
   "cell_type": "markdown",
   "id": "b9d0af0b",
   "metadata": {},
   "source": [
    "# 2. Create a variable to store the string \"Earth revolves around the sun\"\n",
    "   \n",
    "   i. Print \"revolves\" using slice operator\n",
    "   \n",
    "   ii. Print \"sun\" using negative index\n"
   ]
  },
  {
   "cell_type": "code",
   "execution_count": 16,
   "id": "c8623a38",
   "metadata": {},
   "outputs": [
    {
     "name": "stdout",
     "output_type": "stream",
     "text": [
      "revolves\n",
      "sun\n"
     ]
    }
   ],
   "source": [
    "string = \"Earth revolves around the sun\"\n",
    "print(string[6:14])\n",
    "print(string[-3:])"
   ]
  },
  {
   "cell_type": "markdown",
   "id": "80d5ee0a",
   "metadata": {},
   "source": [
    "# 3. Create two variables to store how many fruits and vegetables you eat in a day. Now Print \"I eat x veggies and y fruits daily\" where x and y presents vegetables and fruits that you eat everyday. Use python f string for this."
   ]
  },
  {
   "cell_type": "code",
   "execution_count": 17,
   "id": "13995772",
   "metadata": {},
   "outputs": [
    {
     "name": "stdout",
     "output_type": "stream",
     "text": [
      "I eat 5 veggies and 3 fruits daily\n"
     ]
    }
   ],
   "source": [
    "numVeggies = 5\n",
    "numFruits = 3\n",
    "print(f\"I eat {numVeggies} veggies and {numFruits} fruits daily\")"
   ]
  },
  {
   "cell_type": "markdown",
   "id": "8ccef6d1",
   "metadata": {},
   "source": [
    "# 4. I have a string variable called s='maine 200 banana khaye'. This of course is a wrong statement, the correct statement is 'maine 10 samosa khaye'. Replace incorrect words in original strong with new ones and print the new string. Also try to do this in one line."
   ]
  },
  {
   "cell_type": "code",
   "execution_count": 21,
   "id": "4e7c4c55",
   "metadata": {},
   "outputs": [
    {
     "name": "stdout",
     "output_type": "stream",
     "text": [
      "Stirng after replacement:  maine 10 samosa khaye\n",
      "String afer single line replacement:  maine 10 samosa khaye\n"
     ]
    }
   ],
   "source": [
    "s = \"maine 200 banana khaye\"\n",
    "s = s.replace(\"200\",\"10\")\n",
    "s = s.replace(\"banana\",\"samosa\")\n",
    "print(\"Stirng after replacement: \", s)\n",
    "\n",
    "s = \"maine 200 banana khaye\"\n",
    "s = s.replace(\"banana\",\"samosa\").replace(\"200\",\"10\")\n",
    "print(\"String afer single line replacement: \",s)"
   ]
  }
 ],
 "metadata": {
  "kernelspec": {
   "display_name": "Python 3 (ipykernel)",
   "language": "python",
   "name": "python3"
  },
  "language_info": {
   "codemirror_mode": {
    "name": "ipython",
    "version": 3
   },
   "file_extension": ".py",
   "mimetype": "text/x-python",
   "name": "python",
   "nbconvert_exporter": "python",
   "pygments_lexer": "ipython3",
   "version": "3.9.12"
  }
 },
 "nbformat": 4,
 "nbformat_minor": 5
}
